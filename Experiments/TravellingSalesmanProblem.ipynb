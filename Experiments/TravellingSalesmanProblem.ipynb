{
 "cells": [
  {
   "cell_type": "code",
   "execution_count": 1,
   "metadata": {
    "collapsed": false
   },
   "outputs": [
    {
     "data": {
      "text/plain": [
       "False"
      ]
     },
     "execution_count": 1,
     "metadata": {},
     "output_type": "execute_result"
    }
   ],
   "source": [
    "2+2==5"
   ]
  },
  {
   "cell_type": "code",
   "execution_count": 2,
   "metadata": {
    "collapsed": false
   },
   "outputs": [],
   "source": [
    "import matplotlib.pyplot as plt\n",
    " \n",
    "def plotTSP(path, points, num_iters=1):\n",
    " \n",
    "    \"\"\"\n",
    "    path: List of lists with the different orders in which the nodes are visited\n",
    "    points: coordinates for the different nodes\n",
    "    num_iters: number of paths that are in the path list\n",
    "    \n",
    "    \"\"\"\n",
    " \n",
    "    # Unpack the primary TSP path and transform it into a list of ordered \n",
    "    # coordinates\n",
    " \n",
    "    x = []; y = []\n",
    "    for i in paths[0]:\n",
    "        x.append(points[i][0])\n",
    "        y.append(points[i][1])\n",
    "    \n",
    "    plt.plot(x, y, 'co')\n",
    " \n",
    "    # Set a scale for the arrow heads (there should be a reasonable default for this, WTF?)\n",
    "    a_scale = float(max(x))/float(100)\n",
    " \n",
    "    # Draw the older paths, if provided\n",
    "    if num_iters > 1:\n",
    " \n",
    "        for i in range(1, num_iters):\n",
    " \n",
    "            # Transform the old paths into a list of coordinates\n",
    "            xi = []; yi = [];\n",
    "            for j in paths[i]:\n",
    "                xi.append(points[j][0])\n",
    "                yi.append(points[j][1])\n",
    " \n",
    "            plt.arrow(xi[-1], yi[-1], (xi[0] - xi[-1]), (yi[0] - yi[-1]), \n",
    "                    head_width = a_scale, color = 'r', \n",
    "                    length_includes_head = True, ls = 'dashed',\n",
    "                    width = 0.001/float(num_iters))\n",
    "            for i in range(0, len(x) - 1):\n",
    "                plt.arrow(xi[i], yi[i], (xi[i+1] - xi[i]), (yi[i+1] - yi[i]),\n",
    "                        head_width = a_scale, color = 'r', length_includes_head = True,\n",
    "                        ls = 'dashed', width = 0.001/float(num_iters))\n",
    " \n",
    "    # Draw the primary path for the TSP problem\n",
    "    plt.arrow(x[-1], y[-1], (x[0] - x[-1]), (y[0] - y[-1]), head_width = a_scale, \n",
    "            color ='g', length_includes_head=True)\n",
    "    for i in range(0,len(x)-1):\n",
    "        plt.arrow(x[i], y[i], (x[i+1] - x[i]), (y[i+1] - y[i]), head_width = a_scale,\n",
    "                color = 'g', length_includes_head = True)\n",
    " \n",
    "    #Set axis too slitghtly larger than the set of x and y\n",
    "    plt.xlim(0, max(x)*1.1)\n",
    "    plt.ylim(0, max(y)*1.1)\n",
    "    plt.show()"
   ]
  },
  {
   "cell_type": "code",
   "execution_count": 3,
   "metadata": {
    "collapsed": false
   },
   "outputs": [],
   "source": [
    "    # Create a randomn list of coordinates, pack them into a list\n",
    "    x_cor = [1, 8, 4, 9, 2, 1, 8]\n",
    "    y_cor = [1, 2, 3, 4, 9, 5, 7]\n",
    "    points = []\n",
    "    for i in range(0, len(x_cor)):\n",
    "        points.append((x_cor[i], y_cor[i]))\n",
    " \n",
    "    # Create two paths, teh second with two values swapped to simulate a 2-OPT\n",
    "    # Local Search operation\n",
    "    path4 = [0, 1, 2, 3, 4, 5, 6]\n",
    "    path3 = [0, 2, 1, 3, 4, 5, 6]\n",
    "    path2 = [0, 2, 1, 3, 6, 5, 4]\n",
    "    path1 = [0, 2, 1, 3, 6, 4, 5]\n",
    " \n",
    "    # Pack the paths into a list\n",
    "    paths = [path1, path2, path3, path4]\n",
    "    \n",
    "    # Run the function\n",
    "    plotTSP(paths, points, 4)"
   ]
  },
  {
   "cell_type": "code",
   "execution_count": 4,
   "metadata": {
    "collapsed": false
   },
   "outputs": [],
   "source": [
    "def rerun():\n",
    "    x_cor = [1, 8, 4, 9, 2, 1, 8]\n",
    "    y_cor = [1, 2, 3, 4, 9, 5, 7]\n",
    "    points = []\n",
    "    for i in range(0, len(x_cor)):\n",
    "        points.append((x_cor[i], y_cor[i]))\n",
    " \n",
    "    # Create two paths, teh second with two values swapped to simulate a 2-OPT\n",
    "    # Local Search operation\n",
    "    path4 = [0, 1, 2, 3, 4, 5, 6]\n",
    "    path3 = [0, 2, 1, 3, 4, 5, 6]\n",
    "    path2 = [0, 2, 1, 3, 6, 5, 4]\n",
    "    path1 = [0, 2, 1, 3, 6, 4, 5]\n",
    " \n",
    "    # Pack the paths into a list\n",
    "    paths = [path1, path2, path3, path4]\n",
    "    \n",
    "    # Run the function\n",
    "    plotTSP(paths, points, 4)"
   ]
  },
  {
   "cell_type": "code",
   "execution_count": 5,
   "metadata": {
    "collapsed": false
   },
   "outputs": [],
   "source": [
    "rerun()"
   ]
  },
  {
   "cell_type": "code",
   "execution_count": 6,
   "metadata": {
    "collapsed": false
   },
   "outputs": [],
   "source": [
    "rerun()"
   ]
  },
  {
   "cell_type": "code",
   "execution_count": 7,
   "metadata": {
    "collapsed": false
   },
   "outputs": [],
   "source": [
    "def rerun():\n",
    "    x_cor = [1, 2, 3, 4, 5, 6, 8]\n",
    "    y_cor = [1, 2, 3, 4, 9, 5, 7]\n",
    "    points = zip(x_cor, y_cor)\n",
    " \n",
    "    # Create two paths, the second with two values swapped to simulate a 2-OPT\n",
    "    # Local Search operation\n",
    "    path4 = [0, 1, 2, 3, 4, 5, 6]\n",
    "    path3 = [0, 2, 1, 3, 4, 5, 6]\n",
    "    path2 = [0, 2, 1, 3, 6, 5, 4]\n",
    "    path1 = [0, 2, 1, 3, 6, 4, 5]\n",
    " \n",
    "    # Pack the paths into a list\n",
    "    paths = [path1, path2, path3, path4]\n",
    "    \n",
    "    # Run the function\n",
    "    plotTSP(paths, points, 4)"
   ]
  },
  {
   "cell_type": "code",
   "execution_count": 8,
   "metadata": {
    "collapsed": false
   },
   "outputs": [
    {
     "ename": "IndexError",
     "evalue": "list index out of range",
     "output_type": "error",
     "traceback": [
      "\u001b[0;31m---------------------------------------------------------------------------\u001b[0m",
      "\u001b[0;31mIndexError\u001b[0m                                Traceback (most recent call last)",
      "\u001b[0;32m<ipython-input-8-d364ad6c26db>\u001b[0m in \u001b[0;36m<module>\u001b[0;34m()\u001b[0m\n\u001b[0;32m----> 1\u001b[0;31m \u001b[0mplotTSP\u001b[0m\u001b[0;34m(\u001b[0m\u001b[0;34m[\u001b[0m\u001b[0;34m]\u001b[0m\u001b[0;34m,\u001b[0m \u001b[0;34m[\u001b[0m\u001b[0;34m(\u001b[0m\u001b[0;36m1\u001b[0m\u001b[0;34m,\u001b[0m\u001b[0;36m2\u001b[0m\u001b[0;34m)\u001b[0m\u001b[0;34m,\u001b[0m\u001b[0;34m(\u001b[0m\u001b[0;36m1\u001b[0m\u001b[0;34m,\u001b[0m\u001b[0;36m1\u001b[0m\u001b[0;34m)\u001b[0m\u001b[0;34m]\u001b[0m\u001b[0;34m,\u001b[0m \u001b[0;36m4\u001b[0m\u001b[0;34m)\u001b[0m\u001b[0;34m\u001b[0m\u001b[0m\n\u001b[0m",
      "\u001b[0;32m<ipython-input-2-c676a20fd895>\u001b[0m in \u001b[0;36mplotTSP\u001b[0;34m(path, points, num_iters)\u001b[0m\n\u001b[1;32m     15\u001b[0m     \u001b[0mx\u001b[0m \u001b[0;34m=\u001b[0m \u001b[0;34m[\u001b[0m\u001b[0;34m]\u001b[0m\u001b[0;34m;\u001b[0m \u001b[0my\u001b[0m \u001b[0;34m=\u001b[0m \u001b[0;34m[\u001b[0m\u001b[0;34m]\u001b[0m\u001b[0;34m\u001b[0m\u001b[0m\n\u001b[1;32m     16\u001b[0m     \u001b[0;32mfor\u001b[0m \u001b[0mi\u001b[0m \u001b[0;32min\u001b[0m \u001b[0mpaths\u001b[0m\u001b[0;34m[\u001b[0m\u001b[0;36m0\u001b[0m\u001b[0;34m]\u001b[0m\u001b[0;34m:\u001b[0m\u001b[0;34m\u001b[0m\u001b[0m\n\u001b[0;32m---> 17\u001b[0;31m         \u001b[0mx\u001b[0m\u001b[0;34m.\u001b[0m\u001b[0mappend\u001b[0m\u001b[0;34m(\u001b[0m\u001b[0mpoints\u001b[0m\u001b[0;34m[\u001b[0m\u001b[0mi\u001b[0m\u001b[0;34m]\u001b[0m\u001b[0;34m[\u001b[0m\u001b[0;36m0\u001b[0m\u001b[0;34m]\u001b[0m\u001b[0;34m)\u001b[0m\u001b[0;34m\u001b[0m\u001b[0m\n\u001b[0m\u001b[1;32m     18\u001b[0m         \u001b[0my\u001b[0m\u001b[0;34m.\u001b[0m\u001b[0mappend\u001b[0m\u001b[0;34m(\u001b[0m\u001b[0mpoints\u001b[0m\u001b[0;34m[\u001b[0m\u001b[0mi\u001b[0m\u001b[0;34m]\u001b[0m\u001b[0;34m[\u001b[0m\u001b[0;36m1\u001b[0m\u001b[0;34m]\u001b[0m\u001b[0;34m)\u001b[0m\u001b[0;34m\u001b[0m\u001b[0m\n\u001b[1;32m     19\u001b[0m \u001b[0;34m\u001b[0m\u001b[0m\n",
      "\u001b[0;31mIndexError\u001b[0m: list index out of range"
     ]
    }
   ],
   "source": [
    "plotTSP([], [(1,2),(1,1)], 4)\n"
   ]
  },
  {
   "cell_type": "code",
   "execution_count": null,
   "metadata": {
    "collapsed": false
   },
   "outputs": [],
   "source": [
    "plotTSP([], [(1,2),(1,1)], 1)"
   ]
  },
  {
   "cell_type": "code",
   "execution_count": null,
   "metadata": {
    "collapsed": false
   },
   "outputs": [],
   "source": [
    "def rerun():\n",
    "    x_cor = [1, 8, 4, 9, 2, 1, 8]\n",
    "    y_cor = [1, 2, 3, 4, 9, 5, 7]\n",
    "    points = []\n",
    "    for i in range(0, len(x_cor)):\n",
    "        points.append((x_cor[i], y_cor[i]))\n",
    " \n",
    "    # Create two paths, teh second with two values swapped to simulate a 2-OPT\n",
    "    # Local Search operation\n",
    "    path4 = [0, 1, 2, 3, 4, 5, 6]\n",
    "    path3 = [0, 2, 1, 3, 4, 5, 6]\n",
    "    path2 = [0, 2, 1, 3, 6, 5, 4]\n",
    "    path1 = [0, 2, 1, 3, 6, 4, 5]\n",
    " \n",
    "    # Pack the paths into a list\n",
    "    paths = [path1, path2, path3, path4]\n",
    "    \n",
    "    # Run the function\n",
    "    plotTSP(paths, points, 4)\n",
    "\n",
    "plotTSP([], [(1,2),(1,1)], 1)"
   ]
  },
  {
   "cell_type": "code",
   "execution_count": null,
   "metadata": {
    "collapsed": false
   },
   "outputs": [],
   "source": [
    "def rerun():\n",
    "    x_cor = [1, 8, 4, 9, 2, 1, 8]\n",
    "    y_cor = [1, 2, 3, 4, 9, 5, 7]\n",
    "    points = []\n",
    "    for i in range(0, len(x_cor)):\n",
    "        points.append((x_cor[i], y_cor[i]))\n",
    " \n",
    "    # Create two paths, teh second with two values swapped to simulate a 2-OPT\n",
    "    # Local Search operation\n",
    "    path4 = [0, 1, 2, 3, 4, 5, 6]\n",
    "    path3 = [0, 2, 1, 3, 4, 5, 6]\n",
    "    path2 = [0, 2, 1, 3, 6, 5, 4]\n",
    "    path1 = [0, 2, 1, 3, 6, 4, 5]\n",
    " \n",
    "    # Pack the paths into a list\n",
    "    paths = [path1, path2, path3, path4]\n",
    "    \n",
    "    # Run the function\n",
    "    plotTSP(paths, points, 4)"
   ]
  },
  {
   "cell_type": "code",
   "execution_count": null,
   "metadata": {
    "collapsed": false
   },
   "outputs": [],
   "source": [
    "rerun().x_cor[0] = 20\n",
    "rerun()"
   ]
  },
  {
   "cell_type": "code",
   "execution_count": null,
   "metadata": {
    "collapsed": false
   },
   "outputs": [],
   "source": []
  }
 ],
 "metadata": {
  "kernelspec": {
   "display_name": "Python 3",
   "language": "python",
   "name": "python3"
  },
  "language_info": {
   "codemirror_mode": {
    "name": "ipython",
    "version": 3
   },
   "file_extension": ".py",
   "mimetype": "text/x-python",
   "name": "python",
   "nbconvert_exporter": "python",
   "pygments_lexer": "ipython3",
   "version": "3.5.0"
  }
 },
 "nbformat": 4,
 "nbformat_minor": 0
}
